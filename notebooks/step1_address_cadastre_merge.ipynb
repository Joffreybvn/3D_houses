{
  "nbformat": 4,
  "nbformat_minor": 0,
  "metadata": {
    "colab": {
      "name": "preprocess_address_cadastre_merge.ipynb",
      "provenance": [],
      "toc_visible": true
    },
    "kernelspec": {
      "name": "python3",
      "display_name": "Python 3"
    }
  },
  "cells": [
    {
      "cell_type": "markdown",
      "metadata": {
        "id": "CedusGw7T6Ly"
      },
      "source": [
        "# Imports"
      ]
    },
    {
      "cell_type": "code",
      "metadata": {
        "id": "uAC6hZexT2R-",
        "outputId": "2247b27e-cfe4-4fef-fc17-ea718c2a6aab",
        "colab": {
          "base_uri": "https://localhost:8080/",
          "height": 751
        }
      },
      "source": [
        "!pip install shapely\n",
        "!pip install Fiona\n",
        "!pip install tqdm\n",
        "!pip install git+git://github.com/geopandas/geopandas.git\n",
        "!pip install pyproj"
      ],
      "execution_count": null,
      "outputs": [
        {
          "output_type": "stream",
          "text": [
            "Requirement already satisfied: shapely in /usr/local/lib/python3.6/dist-packages (1.7.1)\n",
            "Collecting Fiona\n",
            "\u001b[?25l  Downloading https://files.pythonhosted.org/packages/36/8b/e8b2c11bed5373c8e98edb85ce891b09aa1f4210fd451d0fb3696b7695a2/Fiona-1.8.17-cp36-cp36m-manylinux1_x86_64.whl (14.8MB)\n",
            "\u001b[K     |████████████████████████████████| 14.8MB 312kB/s \n",
            "\u001b[?25hCollecting cligj>=0.5\n",
            "  Downloading https://files.pythonhosted.org/packages/ba/06/e3440b1f2dc802d35f329f299ba96153e9fcbfdef75e17f4b61f79430c6a/cligj-0.7.0-py3-none-any.whl\n",
            "Requirement already satisfied: attrs>=17 in /usr/local/lib/python3.6/dist-packages (from Fiona) (20.2.0)\n",
            "Requirement already satisfied: click<8,>=4.0 in /usr/local/lib/python3.6/dist-packages (from Fiona) (7.1.2)\n",
            "Requirement already satisfied: six>=1.7 in /usr/local/lib/python3.6/dist-packages (from Fiona) (1.15.0)\n",
            "Collecting munch\n",
            "  Downloading https://files.pythonhosted.org/packages/cc/ab/85d8da5c9a45e072301beb37ad7f833cd344e04c817d97e0cc75681d248f/munch-2.5.0-py2.py3-none-any.whl\n",
            "Collecting click-plugins>=1.0\n",
            "  Downloading https://files.pythonhosted.org/packages/e9/da/824b92d9942f4e472702488857914bdd50f73021efea15b4cad9aca8ecef/click_plugins-1.1.1-py2.py3-none-any.whl\n",
            "Installing collected packages: cligj, munch, click-plugins, Fiona\n",
            "Successfully installed Fiona-1.8.17 click-plugins-1.1.1 cligj-0.7.0 munch-2.5.0\n",
            "Requirement already satisfied: tqdm in /usr/local/lib/python3.6/dist-packages (4.41.1)\n",
            "Collecting git+git://github.com/geopandas/geopandas.git\n",
            "  Cloning git://github.com/geopandas/geopandas.git to /tmp/pip-req-build-2xanh2uz\n",
            "  Running command git clone -q git://github.com/geopandas/geopandas.git /tmp/pip-req-build-2xanh2uz\n",
            "Requirement already satisfied: pandas>=0.24.0 in /usr/local/lib/python3.6/dist-packages (from geopandas==0.8.0+55.g924cdf6) (1.1.3)\n",
            "Requirement already satisfied: shapely>=1.6 in /usr/local/lib/python3.6/dist-packages (from geopandas==0.8.0+55.g924cdf6) (1.7.1)\n",
            "Requirement already satisfied: fiona>=1.8 in /usr/local/lib/python3.6/dist-packages (from geopandas==0.8.0+55.g924cdf6) (1.8.17)\n",
            "Collecting pyproj>=2.2.0\n",
            "\u001b[?25l  Downloading https://files.pythonhosted.org/packages/e5/c3/071e080230ac4b6c64f1a2e2f9161c9737a2bc7b683d2c90b024825000c0/pyproj-2.6.1.post1-cp36-cp36m-manylinux2010_x86_64.whl (10.9MB)\n",
            "\u001b[K     |████████████████████████████████| 10.9MB 2.7MB/s \n",
            "\u001b[?25hRequirement already satisfied: pytz>=2017.2 in /usr/local/lib/python3.6/dist-packages (from pandas>=0.24.0->geopandas==0.8.0+55.g924cdf6) (2018.9)\n",
            "Requirement already satisfied: python-dateutil>=2.7.3 in /usr/local/lib/python3.6/dist-packages (from pandas>=0.24.0->geopandas==0.8.0+55.g924cdf6) (2.8.1)\n",
            "Requirement already satisfied: numpy>=1.15.4 in /usr/local/lib/python3.6/dist-packages (from pandas>=0.24.0->geopandas==0.8.0+55.g924cdf6) (1.18.5)\n",
            "Requirement already satisfied: cligj>=0.5 in /usr/local/lib/python3.6/dist-packages (from fiona>=1.8->geopandas==0.8.0+55.g924cdf6) (0.7.0)\n",
            "Requirement already satisfied: click<8,>=4.0 in /usr/local/lib/python3.6/dist-packages (from fiona>=1.8->geopandas==0.8.0+55.g924cdf6) (7.1.2)\n",
            "Requirement already satisfied: six>=1.7 in /usr/local/lib/python3.6/dist-packages (from fiona>=1.8->geopandas==0.8.0+55.g924cdf6) (1.15.0)\n",
            "Requirement already satisfied: attrs>=17 in /usr/local/lib/python3.6/dist-packages (from fiona>=1.8->geopandas==0.8.0+55.g924cdf6) (20.2.0)\n",
            "Requirement already satisfied: munch in /usr/local/lib/python3.6/dist-packages (from fiona>=1.8->geopandas==0.8.0+55.g924cdf6) (2.5.0)\n",
            "Requirement already satisfied: click-plugins>=1.0 in /usr/local/lib/python3.6/dist-packages (from fiona>=1.8->geopandas==0.8.0+55.g924cdf6) (1.1.1)\n",
            "Building wheels for collected packages: geopandas\n",
            "  Building wheel for geopandas (setup.py) ... \u001b[?25l\u001b[?25hdone\n",
            "  Created wheel for geopandas: filename=geopandas-0.8.0+55.g924cdf6-py2.py3-none-any.whl size=970002 sha256=32e7070754f2bdd6c7c2d90540529cbd4796873267cf416db49c3256897a22d8\n",
            "  Stored in directory: /tmp/pip-ephem-wheel-cache-dlw6zuah/wheels/91/24/71/376c9c67192694168352afcccc2d264248f7e2cc6192997186\n",
            "Successfully built geopandas\n",
            "Installing collected packages: pyproj, geopandas\n",
            "Successfully installed geopandas-0.8.0+55.g924cdf6 pyproj-2.6.1.post1\n",
            "Requirement already satisfied: pyproj in /usr/local/lib/python3.6/dist-packages (2.6.1.post1)\n"
          ],
          "name": "stdout"
        }
      ]
    },
    {
      "cell_type": "code",
      "metadata": {
        "id": "QntAyQBwTX9r"
      },
      "source": [
        "import pandas as pd\n",
        "import geopandas as gpd\n",
        "import shapely\n",
        "import fiona\n",
        "from tqdm import tqdm\n",
        "from pyproj import Proj, transform"
      ],
      "execution_count": null,
      "outputs": []
    },
    {
      "cell_type": "code",
      "metadata": {
        "id": "Te3-jYxriTK2"
      },
      "source": [
        "tqdm.pandas()"
      ],
      "execution_count": null,
      "outputs": []
    },
    {
      "cell_type": "markdown",
      "metadata": {
        "id": "iaPssq4cVIMa"
      },
      "source": [
        "Load datasets"
      ]
    },
    {
      "cell_type": "code",
      "metadata": {
        "id": "iOL0L4g0P2kK"
      },
      "source": [
        "address = pd.read_csv(\"/content/drive/My Drive/datas/3d_house/address_clean.csv\", sep=\";\")"
      ],
      "execution_count": null,
      "outputs": []
    },
    {
      "cell_type": "code",
      "metadata": {
        "id": "eo6Sp2L9TtCc"
      },
      "source": [
        "properties = fiona.open(\"/content/drive/My Drive/datas/3d_house/Cadastres/BRABANT_WALLON/BRAINE-L_ALLEUD_L72_2018/Bpn_CaPa.shp\", \"r\")\n",
        "shape_properties = [(feature[\"geometry\"], feature['properties']['Shape_area']) for feature in properties]"
      ],
      "execution_count": null,
      "outputs": []
    },
    {
      "cell_type": "code",
      "metadata": {
        "id": "TARgbICDUHML"
      },
      "source": [
        "buildings = fiona.open(\"/content/drive/My Drive/datas/3d_house/Cadastres/BRABANT_WALLON/BRAINE-L_ALLEUD_L72_2018/Bpn_CaBu.shp\", \"r\")\n",
        "shape_buildings = [(feature[\"geometry\"], feature['properties']['Shape_area']) for feature in buildings]"
      ],
      "execution_count": null,
      "outputs": []
    },
    {
      "cell_type": "markdown",
      "metadata": {
        "id": "QjDY7fEFVQxC"
      },
      "source": [
        "# Process"
      ]
    },
    {
      "cell_type": "markdown",
      "metadata": {
        "id": "lzONPfJmW85a"
      },
      "source": [
        "## City definition"
      ]
    },
    {
      "cell_type": "markdown",
      "metadata": {
        "id": "HPV0mv7vW0SF"
      },
      "source": [
        "Take only the city we are working on"
      ]
    },
    {
      "cell_type": "code",
      "metadata": {
        "id": "W0glyqy3VTCp"
      },
      "source": [
        "city_postal_code = 1420\n",
        "city_name = \"Braine-l'Alleud\""
      ],
      "execution_count": null,
      "outputs": []
    },
    {
      "cell_type": "code",
      "metadata": {
        "id": "Sih73nzbV4Cp"
      },
      "source": [
        "city_address = address.loc[address['COM_NM'] == city_name]"
      ],
      "execution_count": null,
      "outputs": []
    },
    {
      "cell_type": "code",
      "metadata": {
        "id": "HvOKdnS-WUxb",
        "outputId": "d3c16a30-5e7e-47a7-e0ad-093f52eeab40",
        "colab": {
          "base_uri": "https://localhost:8080/",
          "height": 34
        }
      },
      "source": [
        "city_address.shape"
      ],
      "execution_count": null,
      "outputs": [
        {
          "output_type": "execute_result",
          "data": {
            "text/plain": [
              "(13705, 7)"
            ]
          },
          "metadata": {
            "tags": []
          },
          "execution_count": 10
        }
      ]
    },
    {
      "cell_type": "code",
      "metadata": {
        "id": "dMnALzMafZHw",
        "outputId": "10c325aa-31fb-4860-e4eb-aaa154fce9d3",
        "colab": {
          "base_uri": "https://localhost:8080/",
          "height": 204
        }
      },
      "source": [
        "city_address.head()"
      ],
      "execution_count": null,
      "outputs": [
        {
          "output_type": "execute_result",
          "data": {
            "text/html": [
              "<div>\n",
              "<style scoped>\n",
              "    .dataframe tbody tr th:only-of-type {\n",
              "        vertical-align: middle;\n",
              "    }\n",
              "\n",
              "    .dataframe tbody tr th {\n",
              "        vertical-align: top;\n",
              "    }\n",
              "\n",
              "    .dataframe thead th {\n",
              "        text-align: right;\n",
              "    }\n",
              "</style>\n",
              "<table border=\"1\" class=\"dataframe\">\n",
              "  <thead>\n",
              "    <tr style=\"text-align: right;\">\n",
              "      <th></th>\n",
              "      <th>ADR_NUMERO</th>\n",
              "      <th>RUE_ID</th>\n",
              "      <th>RUE_NM</th>\n",
              "      <th>CODE_POSTAL</th>\n",
              "      <th>COM_NM</th>\n",
              "      <th>X</th>\n",
              "      <th>Y</th>\n",
              "    </tr>\n",
              "  </thead>\n",
              "  <tbody>\n",
              "    <tr>\n",
              "      <th>0</th>\n",
              "      <td>93</td>\n",
              "      <td>7700328</td>\n",
              "      <td>Chaussée Reine Astrid</td>\n",
              "      <td>1420</td>\n",
              "      <td>Braine-l'Alleud</td>\n",
              "      <td>150915.6320</td>\n",
              "      <td>152830.7620</td>\n",
              "    </tr>\n",
              "    <tr>\n",
              "      <th>1</th>\n",
              "      <td>103</td>\n",
              "      <td>7700317</td>\n",
              "      <td>Boulevard de l'Europe</td>\n",
              "      <td>1420</td>\n",
              "      <td>Braine-l'Alleud</td>\n",
              "      <td>151281.9948</td>\n",
              "      <td>152320.9902</td>\n",
              "    </tr>\n",
              "    <tr>\n",
              "      <th>2</th>\n",
              "      <td>17</td>\n",
              "      <td>7700317</td>\n",
              "      <td>Boulevard de l'Europe</td>\n",
              "      <td>1420</td>\n",
              "      <td>Braine-l'Alleud</td>\n",
              "      <td>150994.1490</td>\n",
              "      <td>152550.0550</td>\n",
              "    </tr>\n",
              "    <tr>\n",
              "      <th>3</th>\n",
              "      <td>19</td>\n",
              "      <td>7700317</td>\n",
              "      <td>Boulevard de l'Europe</td>\n",
              "      <td>1420</td>\n",
              "      <td>Braine-l'Alleud</td>\n",
              "      <td>151009.7500</td>\n",
              "      <td>152545.2140</td>\n",
              "    </tr>\n",
              "    <tr>\n",
              "      <th>4</th>\n",
              "      <td>26</td>\n",
              "      <td>7700317</td>\n",
              "      <td>Boulevard de l'Europe</td>\n",
              "      <td>1420</td>\n",
              "      <td>Braine-l'Alleud</td>\n",
              "      <td>150949.4630</td>\n",
              "      <td>152500.9000</td>\n",
              "    </tr>\n",
              "  </tbody>\n",
              "</table>\n",
              "</div>"
            ],
            "text/plain": [
              "  ADR_NUMERO   RUE_ID  ...            X            Y\n",
              "0         93  7700328  ...  150915.6320  152830.7620\n",
              "1        103  7700317  ...  151281.9948  152320.9902\n",
              "2         17  7700317  ...  150994.1490  152550.0550\n",
              "3         19  7700317  ...  151009.7500  152545.2140\n",
              "4         26  7700317  ...  150949.4630  152500.9000\n",
              "\n",
              "[5 rows x 7 columns]"
            ]
          },
          "metadata": {
            "tags": []
          },
          "execution_count": 11
        }
      ]
    },
    {
      "cell_type": "markdown",
      "metadata": {
        "id": "7PYwlSAiYstE"
      },
      "source": [
        "## Merge address and cadastre\n",
        "\n"
      ]
    },
    {
      "cell_type": "markdown",
      "metadata": {
        "id": "2P1X79lZscC-"
      },
      "source": [
        "### Functions definition"
      ]
    },
    {
      "cell_type": "markdown",
      "metadata": {
        "id": "iS6dYysKYzMA"
      },
      "source": [
        "Return true if a given point is in a given shape"
      ]
    },
    {
      "cell_type": "code",
      "metadata": {
        "id": "ug18Y_UwW7HS"
      },
      "source": [
        "from shapely.geometry import Point\n",
        "from shapely.geometry.polygon import Polygon\n",
        "\n",
        "def is_in_shape(point, polygon):\n",
        "  \"\"\"\n",
        "  point: tuple: (x, y)\n",
        "  polygon: list of tuples: [(x, y), (...)]\n",
        "  \"\"\"\n",
        "  try:\n",
        "    point = Point(point[0], point[1])\n",
        "    polygon = Polygon(polygon)\n",
        "    return polygon.contains(point)\n",
        "  except:\n",
        "    return False"
      ],
      "execution_count": null,
      "outputs": []
    },
    {
      "cell_type": "markdown",
      "metadata": {
        "id": "KCCnNRJBseHM"
      },
      "source": [
        "Find a shape building for a given point"
      ]
    },
    {
      "cell_type": "code",
      "metadata": {
        "id": "Ttvc9acspGub"
      },
      "source": [
        "def add_building_shape(point):\n",
        "  \n",
        "  # Loop through all shape\n",
        "  for data in shape_buildings:\n",
        "    polygon = data[0]['coordinates'][0]\n",
        "    \n",
        "    # Chech if point is in shape\n",
        "    if is_in_shape(point, polygon):\n",
        "\n",
        "      # Return the polygon and the area size\n",
        "      return pd.Series([polygon, data[1]])"
      ],
      "execution_count": null,
      "outputs": []
    },
    {
      "cell_type": "markdown",
      "metadata": {
        "id": "XCBQ40itsii1"
      },
      "source": [
        "Find a shape property for a given point"
      ]
    },
    {
      "cell_type": "code",
      "metadata": {
        "id": "pN2EP9JEZLAq"
      },
      "source": [
        "def add_property_shape(point):\n",
        "  \n",
        "  # Loop through all shape\n",
        "  for data in shape_properties:\n",
        "    polygon = data[0]['coordinates'][0]\n",
        "    \n",
        "    # Chech if point is in shape\n",
        "    if is_in_shape(point, polygon):\n",
        "\n",
        "      # Return the polygon and the area size\n",
        "      return pd.Series([polygon, data[1]])"
      ],
      "execution_count": null,
      "outputs": []
    },
    {
      "cell_type": "markdown",
      "metadata": {
        "id": "8C26AV-pwfq5"
      },
      "source": [
        "Convert Lambert 72 (EPSG:31370) to GPS coordinates (EPSG:4326)"
      ]
    },
    {
      "cell_type": "code",
      "metadata": {
        "id": "Y9-qxywcwyMN",
        "outputId": "9357c7a8-f68b-4aa8-b7f2-069bacd8006b",
        "colab": {
          "base_uri": "https://localhost:8080/",
          "height": 173
        }
      },
      "source": [
        "in_proj = Proj(init='epsg:31370')\n",
        "out_proj = Proj(init='epsg:4326')\n",
        "\n",
        "def convert_coordinates(point):\n",
        "  x1, y1 = point\n",
        "  x2,y2 = transform(in_proj, out_proj, x1, y1)\n",
        "\n",
        "  return pd.Series([x2, y2])"
      ],
      "execution_count": null,
      "outputs": [
        {
          "output_type": "stream",
          "text": [
            "/usr/local/lib/python3.6/dist-packages/pyproj/crs/crs.py:53: FutureWarning: '+init=<authority>:<code>' syntax is deprecated. '<authority>:<code>' is the preferred initialization method. When making the change, be mindful of axis order changes: https://pyproj4.github.io/pyproj/stable/gotchas.html#axis-order-changes-in-proj-6\n",
            "  return _prepare_from_string(\" \".join(pjargs))\n",
            "/usr/local/lib/python3.6/dist-packages/pyproj/crs/crs.py:294: FutureWarning: '+init=<authority>:<code>' syntax is deprecated. '<authority>:<code>' is the preferred initialization method. When making the change, be mindful of axis order changes: https://pyproj4.github.io/pyproj/stable/gotchas.html#axis-order-changes-in-proj-6\n",
            "  projstring = _prepare_from_string(\" \".join((projstring, projkwargs)))\n",
            "/usr/local/lib/python3.6/dist-packages/pyproj/crs/crs.py:53: FutureWarning: '+init=<authority>:<code>' syntax is deprecated. '<authority>:<code>' is the preferred initialization method. When making the change, be mindful of axis order changes: https://pyproj4.github.io/pyproj/stable/gotchas.html#axis-order-changes-in-proj-6\n",
            "  return _prepare_from_string(\" \".join(pjargs))\n",
            "/usr/local/lib/python3.6/dist-packages/pyproj/crs/crs.py:294: FutureWarning: '+init=<authority>:<code>' syntax is deprecated. '<authority>:<code>' is the preferred initialization method. When making the change, be mindful of axis order changes: https://pyproj4.github.io/pyproj/stable/gotchas.html#axis-order-changes-in-proj-6\n",
            "  projstring = _prepare_from_string(\" \".join((projstring, projkwargs)))\n"
          ],
          "name": "stderr"
        }
      ]
    },
    {
      "cell_type": "markdown",
      "metadata": {
        "id": "HJUuQwQrsV7F"
      },
      "source": [
        "### Get property cadastre"
      ]
    },
    {
      "cell_type": "markdown",
      "metadata": {
        "id": "WqKz_atlwyWD"
      },
      "source": [
        "Retrieve the cadastre's shape of the terrain, for each house of the current city."
      ]
    },
    {
      "cell_type": "code",
      "metadata": {
        "id": "r16dJNkUf8I9",
        "outputId": "221c5d4f-d928-4f6e-afa4-e1f205c6ef16",
        "colab": {
          "base_uri": "https://localhost:8080/",
          "height": 136
        }
      },
      "source": [
        "city_address[['shape_property', 'area_property']] = city_address[['X', 'Y']].progress_apply(add_property_shape, axis=1)"
      ],
      "execution_count": null,
      "outputs": [
        {
          "output_type": "stream",
          "text": [
            "100%|██████████| 13705/13705 [1:02:58<00:00,  3.63it/s]\n",
            "/usr/local/lib/python3.6/dist-packages/pandas/core/frame.py:3065: SettingWithCopyWarning: \n",
            "A value is trying to be set on a copy of a slice from a DataFrame.\n",
            "Try using .loc[row_indexer,col_indexer] = value instead\n",
            "\n",
            "See the caveats in the documentation: https://pandas.pydata.org/pandas-docs/stable/user_guide/indexing.html#returning-a-view-versus-a-copy\n",
            "  self[k1] = value[k2]\n"
          ],
          "name": "stderr"
        }
      ]
    },
    {
      "cell_type": "code",
      "metadata": {
        "id": "wrA-Vc7Dq1n2",
        "outputId": "f5ce0c15-f5dc-4417-e50e-b10bce7f5908",
        "colab": {
          "base_uri": "https://localhost:8080/",
          "height": 289
        }
      },
      "source": [
        "city_address.head()"
      ],
      "execution_count": null,
      "outputs": [
        {
          "output_type": "execute_result",
          "data": {
            "text/html": [
              "<div>\n",
              "<style scoped>\n",
              "    .dataframe tbody tr th:only-of-type {\n",
              "        vertical-align: middle;\n",
              "    }\n",
              "\n",
              "    .dataframe tbody tr th {\n",
              "        vertical-align: top;\n",
              "    }\n",
              "\n",
              "    .dataframe thead th {\n",
              "        text-align: right;\n",
              "    }\n",
              "</style>\n",
              "<table border=\"1\" class=\"dataframe\">\n",
              "  <thead>\n",
              "    <tr style=\"text-align: right;\">\n",
              "      <th></th>\n",
              "      <th>ADR_NUMERO</th>\n",
              "      <th>RUE_ID</th>\n",
              "      <th>RUE_NM</th>\n",
              "      <th>CODE_POSTAL</th>\n",
              "      <th>COM_NM</th>\n",
              "      <th>X</th>\n",
              "      <th>Y</th>\n",
              "      <th>shape_property</th>\n",
              "      <th>area_property</th>\n",
              "    </tr>\n",
              "  </thead>\n",
              "  <tbody>\n",
              "    <tr>\n",
              "      <th>0</th>\n",
              "      <td>93</td>\n",
              "      <td>7700328</td>\n",
              "      <td>Chaussée Reine Astrid</td>\n",
              "      <td>1420</td>\n",
              "      <td>Braine-l'Alleud</td>\n",
              "      <td>150915.6320</td>\n",
              "      <td>152830.7620</td>\n",
              "      <td>[(150919.4244444372, 152854.22839800362), (150...</td>\n",
              "      <td>210.7758</td>\n",
              "    </tr>\n",
              "    <tr>\n",
              "      <th>1</th>\n",
              "      <td>103</td>\n",
              "      <td>7700317</td>\n",
              "      <td>Boulevard de l'Europe</td>\n",
              "      <td>1420</td>\n",
              "      <td>Braine-l'Alleud</td>\n",
              "      <td>151281.9948</td>\n",
              "      <td>152320.9902</td>\n",
              "      <td>[(151296.05887384625, 152327.6013492318), (151...</td>\n",
              "      <td>383.4957</td>\n",
              "    </tr>\n",
              "    <tr>\n",
              "      <th>2</th>\n",
              "      <td>17</td>\n",
              "      <td>7700317</td>\n",
              "      <td>Boulevard de l'Europe</td>\n",
              "      <td>1420</td>\n",
              "      <td>Braine-l'Alleud</td>\n",
              "      <td>150994.1490</td>\n",
              "      <td>152550.0550</td>\n",
              "      <td>[(150989.1647082097, 152570.9071330065), (1510...</td>\n",
              "      <td>1166.0086</td>\n",
              "    </tr>\n",
              "    <tr>\n",
              "      <th>3</th>\n",
              "      <td>19</td>\n",
              "      <td>7700317</td>\n",
              "      <td>Boulevard de l'Europe</td>\n",
              "      <td>1420</td>\n",
              "      <td>Braine-l'Alleud</td>\n",
              "      <td>151009.7500</td>\n",
              "      <td>152545.2140</td>\n",
              "      <td>[(150989.1647082097, 152570.9071330065), (1510...</td>\n",
              "      <td>1166.0086</td>\n",
              "    </tr>\n",
              "    <tr>\n",
              "      <th>4</th>\n",
              "      <td>26</td>\n",
              "      <td>7700317</td>\n",
              "      <td>Boulevard de l'Europe</td>\n",
              "      <td>1420</td>\n",
              "      <td>Braine-l'Alleud</td>\n",
              "      <td>150949.4630</td>\n",
              "      <td>152500.9000</td>\n",
              "      <td>[(150971.85671828355, 152498.83702574205), (15...</td>\n",
              "      <td>833.9714</td>\n",
              "    </tr>\n",
              "  </tbody>\n",
              "</table>\n",
              "</div>"
            ],
            "text/plain": [
              "  ADR_NUMERO  ...  area_property\n",
              "0         93  ...       210.7758\n",
              "1        103  ...       383.4957\n",
              "2         17  ...      1166.0086\n",
              "3         19  ...      1166.0086\n",
              "4         26  ...       833.9714\n",
              "\n",
              "[5 rows x 9 columns]"
            ]
          },
          "metadata": {
            "tags": []
          },
          "execution_count": 17
        }
      ]
    },
    {
      "cell_type": "code",
      "metadata": {
        "id": "r_D6B1GfgRWf"
      },
      "source": [
        "# Drop the entries with no property_shape\n",
        "city_address = city_address[city_address['shape_property'].notna()]"
      ],
      "execution_count": null,
      "outputs": []
    },
    {
      "cell_type": "markdown",
      "metadata": {
        "id": "F1-oD-kHsZlG"
      },
      "source": [
        "### Get building cadastre"
      ]
    },
    {
      "cell_type": "markdown",
      "metadata": {
        "id": "Hs8zZYLsw2IQ"
      },
      "source": [
        "Retrieve the cadastre's shape of the building, for each house of the current city."
      ]
    },
    {
      "cell_type": "code",
      "metadata": {
        "id": "4FrIcbHnou3g",
        "outputId": "cd726f84-e031-4e32-d4f0-cba2d9b31305",
        "colab": {
          "base_uri": "https://localhost:8080/",
          "height": 34
        }
      },
      "source": [
        "city_address[['shape_building', 'area_building']] = city_address[['X', 'Y']].progress_apply(add_building_shape, axis=1)"
      ],
      "execution_count": null,
      "outputs": [
        {
          "output_type": "stream",
          "text": [
            "100%|██████████| 13697/13697 [1:05:09<00:00,  3.50it/s]\n"
          ],
          "name": "stderr"
        }
      ]
    },
    {
      "cell_type": "code",
      "metadata": {
        "id": "o4l__J3Nq-Qy"
      },
      "source": [
        "# Drop the entries with no shape_building\n",
        "city_address = city_address[city_address['shape_building'].notna()]"
      ],
      "execution_count": null,
      "outputs": []
    },
    {
      "cell_type": "markdown",
      "metadata": {
        "id": "tSuE41D2xYpf"
      },
      "source": [
        "### Convert coordinates"
      ]
    },
    {
      "cell_type": "markdown",
      "metadata": {
        "id": "mjLPfS2Qw9_s"
      },
      "source": [
        "Convert coordinates from Lambert 72 to Lat/Long."
      ]
    },
    {
      "cell_type": "code",
      "metadata": {
        "id": "YcCeH_XPxW_4",
        "outputId": "83dee1b8-d882-49db-ee6c-d55311d592cf",
        "colab": {
          "base_uri": "https://localhost:8080/",
          "height": 88
        }
      },
      "source": [
        "city_address[['X', 'Y']] = city_address[['X', 'Y']].progress_apply(convert_coordinates, axis=1)"
      ],
      "execution_count": null,
      "outputs": [
        {
          "output_type": "stream",
          "text": [
            "\r  0%|          | 0/13498 [00:00<?, ?it/s]/usr/local/lib/python3.6/dist-packages/ipykernel_launcher.py:6: DeprecationWarning: This function is deprecated. See: https://pyproj4.github.io/pyproj/stable/gotchas.html#upgrading-to-pyproj-2-from-pyproj-1\n",
            "  \n",
            "100%|██████████| 13498/13498 [51:00<00:00,  4.41it/s]\n"
          ],
          "name": "stderr"
        }
      ]
    },
    {
      "cell_type": "markdown",
      "metadata": {
        "id": "sOrpfmlxrR5e"
      },
      "source": [
        "# Save to CSV"
      ]
    },
    {
      "cell_type": "markdown",
      "metadata": {
        "id": "ofxgtdvFxD9R"
      },
      "source": [
        "Create a CSV with the newly created dataset."
      ]
    },
    {
      "cell_type": "code",
      "metadata": {
        "id": "IMK6jiIDrKt8",
        "outputId": "89b71d9f-5e75-4609-f2ba-fd4e25527a51",
        "colab": {
          "base_uri": "https://localhost:8080/"
        }
      },
      "source": [
        "city_address.head()"
      ],
      "execution_count": null,
      "outputs": [
        {
          "output_type": "execute_result",
          "data": {
            "text/html": [
              "<div>\n",
              "<style scoped>\n",
              "    .dataframe tbody tr th:only-of-type {\n",
              "        vertical-align: middle;\n",
              "    }\n",
              "\n",
              "    .dataframe tbody tr th {\n",
              "        vertical-align: top;\n",
              "    }\n",
              "\n",
              "    .dataframe thead th {\n",
              "        text-align: right;\n",
              "    }\n",
              "</style>\n",
              "<table border=\"1\" class=\"dataframe\">\n",
              "  <thead>\n",
              "    <tr style=\"text-align: right;\">\n",
              "      <th></th>\n",
              "      <th>ADR_NUMERO</th>\n",
              "      <th>RUE_ID</th>\n",
              "      <th>RUE_NM</th>\n",
              "      <th>CODE_POSTAL</th>\n",
              "      <th>COM_NM</th>\n",
              "      <th>X</th>\n",
              "      <th>Y</th>\n",
              "      <th>shape_property</th>\n",
              "      <th>area_property</th>\n",
              "      <th>shape_building</th>\n",
              "      <th>area_building</th>\n",
              "    </tr>\n",
              "  </thead>\n",
              "  <tbody>\n",
              "    <tr>\n",
              "      <th>0</th>\n",
              "      <td>93</td>\n",
              "      <td>7700328</td>\n",
              "      <td>Chaussée Reine Astrid</td>\n",
              "      <td>1420</td>\n",
              "      <td>Braine-l'Alleud</td>\n",
              "      <td>4.381707</td>\n",
              "      <td>50.686064</td>\n",
              "      <td>[(150919.4244444372, 152854.22839800362), (150...</td>\n",
              "      <td>210.7758</td>\n",
              "      <td>[(150918.75374986563, 152824.78092064243), (15...</td>\n",
              "      <td>72.8164</td>\n",
              "    </tr>\n",
              "    <tr>\n",
              "      <th>1</th>\n",
              "      <td>103</td>\n",
              "      <td>7700317</td>\n",
              "      <td>Boulevard de l'Europe</td>\n",
              "      <td>1420</td>\n",
              "      <td>Braine-l'Alleud</td>\n",
              "      <td>4.386889</td>\n",
              "      <td>50.681481</td>\n",
              "      <td>[(151296.05887384625, 152327.6013492318), (151...</td>\n",
              "      <td>383.4957</td>\n",
              "      <td>[(151274.6087936778, 152323.07133538742), (151...</td>\n",
              "      <td>93.6305</td>\n",
              "    </tr>\n",
              "    <tr>\n",
              "      <th>2</th>\n",
              "      <td>17</td>\n",
              "      <td>7700317</td>\n",
              "      <td>Boulevard de l'Europe</td>\n",
              "      <td>1420</td>\n",
              "      <td>Braine-l'Alleud</td>\n",
              "      <td>4.382817</td>\n",
              "      <td>50.683541</td>\n",
              "      <td>[(150989.1647082097, 152570.9071330065), (1510...</td>\n",
              "      <td>1166.0086</td>\n",
              "      <td>[(151014.99869199647, 152536.71619888395), (15...</td>\n",
              "      <td>412.9572</td>\n",
              "    </tr>\n",
              "    <tr>\n",
              "      <th>3</th>\n",
              "      <td>19</td>\n",
              "      <td>7700317</td>\n",
              "      <td>Boulevard de l'Europe</td>\n",
              "      <td>1420</td>\n",
              "      <td>Braine-l'Alleud</td>\n",
              "      <td>4.383038</td>\n",
              "      <td>50.683497</td>\n",
              "      <td>[(150989.1647082097, 152570.9071330065), (1510...</td>\n",
              "      <td>1166.0086</td>\n",
              "      <td>[(151014.99869199647, 152536.71619888395), (15...</td>\n",
              "      <td>412.9572</td>\n",
              "    </tr>\n",
              "    <tr>\n",
              "      <th>4</th>\n",
              "      <td>26</td>\n",
              "      <td>7700317</td>\n",
              "      <td>Boulevard de l'Europe</td>\n",
              "      <td>1420</td>\n",
              "      <td>Braine-l'Alleud</td>\n",
              "      <td>4.382185</td>\n",
              "      <td>50.683099</td>\n",
              "      <td>[(150971.85671828355, 152498.83702574205), (15...</td>\n",
              "      <td>833.9714</td>\n",
              "      <td>[(150960.48566577883, 152503.05900870822), (15...</td>\n",
              "      <td>227.3550</td>\n",
              "    </tr>\n",
              "  </tbody>\n",
              "</table>\n",
              "</div>"
            ],
            "text/plain": [
              "  ADR_NUMERO  ...  area_building\n",
              "0         93  ...        72.8164\n",
              "1        103  ...        93.6305\n",
              "2         17  ...       412.9572\n",
              "3         19  ...       412.9572\n",
              "4         26  ...       227.3550\n",
              "\n",
              "[5 rows x 11 columns]"
            ]
          },
          "metadata": {
            "tags": []
          },
          "execution_count": 22
        }
      ]
    },
    {
      "cell_type": "code",
      "metadata": {
        "id": "eB7gIMZVrTZl"
      },
      "source": [
        "city_address.to_csv(f\"city_{city_postal_code}.csv\", sep=';', index=False)"
      ],
      "execution_count": null,
      "outputs": []
    }
  ]
}