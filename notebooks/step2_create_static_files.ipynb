{
  "nbformat": 4,
  "nbformat_minor": 0,
  "metadata": {
    "colab": {
      "name": "wallonia.ml_create_static_files",
      "provenance": [],
      "collapsed_sections": [],
      "toc_visible": true
    },
    "kernelspec": {
      "name": "python3",
      "display_name": "Python 3"
    }
  },
  "cells": [
    {
      "cell_type": "markdown",
      "metadata": {
        "id": "DCtwCb1i0Wt2"
      },
      "source": [
        "# Imports"
      ]
    },
    {
      "cell_type": "code",
      "metadata": {
        "id": "EExVoIuu0Wbd",
        "outputId": "1da318da-540a-4ceb-ea84-47776421d888",
        "colab": {
          "base_uri": "https://localhost:8080/"
        }
      },
      "source": [
        "!pip install rasterio\n",
        "!pip install tqdm\n",
        "!pip install GDAL\n",
        "!pip install git+https://github.com/VolkerH/np_obb.git\n",
        "!pip install shapely\n",
        "!pip install tripy\n",
        "!pip install mapbox-earcut\n",
        "!pip install scipy\n",
        "!pip install b2sdk"
      ],
      "execution_count": 44,
      "outputs": [
        {
          "output_type": "stream",
          "text": [
            "Requirement already satisfied: rasterio in /usr/local/lib/python3.6/dist-packages (1.1.8)\n",
            "Requirement already satisfied: attrs in /usr/local/lib/python3.6/dist-packages (from rasterio) (20.2.0)\n",
            "Requirement already satisfied: numpy in /usr/local/lib/python3.6/dist-packages (from rasterio) (1.18.5)\n",
            "Requirement already satisfied: snuggs>=1.4.1 in /usr/local/lib/python3.6/dist-packages (from rasterio) (1.4.7)\n",
            "Requirement already satisfied: affine in /usr/local/lib/python3.6/dist-packages (from rasterio) (2.3.0)\n",
            "Requirement already satisfied: click<8,>=4.0 in /usr/local/lib/python3.6/dist-packages (from rasterio) (7.1.2)\n",
            "Requirement already satisfied: cligj>=0.5 in /usr/local/lib/python3.6/dist-packages (from rasterio) (0.7.0)\n",
            "Requirement already satisfied: click-plugins in /usr/local/lib/python3.6/dist-packages (from rasterio) (1.1.1)\n",
            "Requirement already satisfied: pyparsing>=2.1.6 in /usr/local/lib/python3.6/dist-packages (from snuggs>=1.4.1->rasterio) (2.4.7)\n",
            "Requirement already satisfied: tqdm in /usr/local/lib/python3.6/dist-packages (4.41.1)\n",
            "Requirement already satisfied: GDAL in /usr/lib/python3/dist-packages (2.2.2)\n",
            "Collecting git+https://github.com/VolkerH/np_obb.git\n",
            "  Cloning https://github.com/VolkerH/np_obb.git to /tmp/pip-req-build-v927yx9h\n",
            "  Running command git clone -q https://github.com/VolkerH/np_obb.git /tmp/pip-req-build-v927yx9h\n",
            "Requirement already satisfied (use --upgrade to upgrade): np-obb==0.1.1 from git+https://github.com/VolkerH/np_obb.git in /usr/local/lib/python3.6/dist-packages\n",
            "Building wheels for collected packages: np-obb\n",
            "  Building wheel for np-obb (setup.py) ... \u001b[?25l\u001b[?25hdone\n",
            "  Created wheel for np-obb: filename=np_obb-0.1.1-cp36-none-any.whl size=3743 sha256=2c1cbecb28a82ff3f5f5f4aabef9b1fbaa7f85fd8dcda8c67b708f5565db76e0\n",
            "  Stored in directory: /tmp/pip-ephem-wheel-cache-piaol8ow/wheels/38/26/ab/db34af685cba62d82ee872ec807fea37954dcf0b70fb7ff2aa\n",
            "Successfully built np-obb\n",
            "Requirement already satisfied: shapely in /usr/local/lib/python3.6/dist-packages (1.7.1)\n",
            "Requirement already satisfied: tripy in /usr/local/lib/python3.6/dist-packages (1.0.0)\n",
            "Requirement already satisfied: mapbox-earcut in /usr/local/lib/python3.6/dist-packages (0.12.10)\n",
            "Requirement already satisfied: numpy in /usr/local/lib/python3.6/dist-packages (from mapbox-earcut) (1.18.5)\n",
            "Requirement already satisfied: scipy in /usr/local/lib/python3.6/dist-packages (1.4.1)\n",
            "Requirement already satisfied: numpy>=1.13.3 in /usr/local/lib/python3.6/dist-packages (from scipy) (1.18.5)\n",
            "Requirement already satisfied: b2sdk in /usr/local/lib/python3.6/dist-packages (1.1.4)\n",
            "Requirement already satisfied: six>=1.10 in /usr/local/lib/python3.6/dist-packages (from b2sdk) (1.15.0)\n",
            "Requirement already satisfied: logfury>=0.1.2 in /usr/local/lib/python3.6/dist-packages (from b2sdk) (0.1.2)\n",
            "Requirement already satisfied: arrow>=0.8.0; python_version > \"3.4\" in /usr/local/lib/python3.6/dist-packages (from b2sdk) (0.17.0)\n",
            "Requirement already satisfied: requests>=2.9.1 in /usr/local/lib/python3.6/dist-packages (from b2sdk) (2.23.0)\n",
            "Requirement already satisfied: tqdm>=4.5.0 in /usr/local/lib/python3.6/dist-packages (from b2sdk) (4.41.1)\n",
            "Requirement already satisfied: setuptools in /usr/local/lib/python3.6/dist-packages (from b2sdk) (50.3.0)\n",
            "Requirement already satisfied: funcsigs in /usr/local/lib/python3.6/dist-packages (from logfury>=0.1.2->b2sdk) (1.0.2)\n",
            "Requirement already satisfied: python-dateutil>=2.7.0 in /usr/local/lib/python3.6/dist-packages (from arrow>=0.8.0; python_version > \"3.4\"->b2sdk) (2.8.1)\n",
            "Requirement already satisfied: chardet<4,>=3.0.2 in /usr/local/lib/python3.6/dist-packages (from requests>=2.9.1->b2sdk) (3.0.4)\n",
            "Requirement already satisfied: idna<3,>=2.5 in /usr/local/lib/python3.6/dist-packages (from requests>=2.9.1->b2sdk) (2.10)\n",
            "Requirement already satisfied: certifi>=2017.4.17 in /usr/local/lib/python3.6/dist-packages (from requests>=2.9.1->b2sdk) (2020.6.20)\n",
            "Requirement already satisfied: urllib3!=1.25.0,!=1.25.1,<1.26,>=1.21.1 in /usr/local/lib/python3.6/dist-packages (from requests>=2.9.1->b2sdk) (1.24.3)\n"
          ],
          "name": "stdout"
        }
      ]
    },
    {
      "cell_type": "code",
      "metadata": {
        "id": "dGoIXMXE0qVl"
      },
      "source": [
        "#import pickle\n",
        "import bz2\n",
        "import lzma\n",
        "import _pickle as cPickle\n",
        "import rasterio\n",
        "from rasterio.windows import Window\n",
        "from rasterio.mask import mask\n",
        "import pandas as pd\n",
        "from tqdm import tqdm\n",
        "import numpy as np\n",
        "from osgeo import gdal\n",
        "from matplotlib import pyplot as plt\n",
        "import np_obb\n",
        "from shapely.geometry import Point\n",
        "from shapely.geometry.polygon import Polygon\n",
        "import tripy\n",
        "import mapbox_earcut as earcut\n",
        "import scipy\n",
        "import os\n",
        "import shutil\n",
        "import zipfile\n",
        "import json\n",
        "import b2sdk\n",
        "import ast\n",
        "import requests"
      ],
      "execution_count": 80,
      "outputs": []
    },
    {
      "cell_type": "code",
      "metadata": {
        "id": "V_4kwc6P36g0"
      },
      "source": [
        "tqdm.pandas()"
      ],
      "execution_count": 46,
      "outputs": []
    },
    {
      "cell_type": "code",
      "metadata": {
        "id": "fDvYtKHW0L3B"
      },
      "source": [
        "dtm = rasterio.open(\"/content/drive/My Drive/datas/3d_house/DTM/DTM_BRABANT_WALLON/RELIEF_WALLONIE_MNT_2013_2014.tif\")"
      ],
      "execution_count": 47,
      "outputs": []
    },
    {
      "cell_type": "code",
      "metadata": {
        "id": "YebRsq0J0m5r"
      },
      "source": [
        "dsm = rasterio.open('/content/drive/My Drive/datas/3d_house/DSM/DSM_BRABANT_WALLON/RELIEF_WALLONIE_MNS_2013_2014.tif')"
      ],
      "execution_count": 48,
      "outputs": []
    },
    {
      "cell_type": "markdown",
      "metadata": {
        "id": "SPmMziDA08Kg"
      },
      "source": [
        "# Functions definition"
      ]
    },
    {
      "cell_type": "markdown",
      "metadata": {
        "id": "uP7k4CxOyFen"
      },
      "source": [
        "Function: Create a folder"
      ]
    },
    {
      "cell_type": "code",
      "metadata": {
        "id": "jQb0ne6RChdO"
      },
      "source": [
        "def create_folder(path):\n",
        "  os.mkdir(path)"
      ],
      "execution_count": 49,
      "outputs": []
    },
    {
      "cell_type": "markdown",
      "metadata": {
        "id": "E9p6xSeFyNTg"
      },
      "source": [
        "Function: Reset the folders (delete them and create them again)"
      ]
    },
    {
      "cell_type": "code",
      "metadata": {
        "id": "tVm7hz2lCaew"
      },
      "source": [
        "def reset_folder():\n",
        "  folders = ['house', 'web']\n",
        "  \n",
        "  for folder in folders:\n",
        "    \n",
        "    # Remove the folder\n",
        "    shutil.rmtree(folder, ignore_errors=True)\n",
        "\n",
        "    # Create a new one\n",
        "    create_folder(folder)\n",
        "\n",
        "reset_folder()"
      ],
      "execution_count": 50,
      "outputs": []
    },
    {
      "cell_type": "markdown",
      "metadata": {
        "id": "BTvApLKXyqkJ"
      },
      "source": [
        "Object: Raster2xyz, library copied and modify for the specific need of this notebook.\n",
        "\n",
        "Source: https://pypi.org/project/raster2xyz/"
      ]
    },
    {
      "cell_type": "code",
      "metadata": {
        "id": "CX2UZR8ZzGZM"
      },
      "source": [
        "class Raster2xyz(object):\n",
        "\n",
        "    def __init__(self, verbose=True):\n",
        "      pass\n",
        "\n",
        "    def __getXyzData(self, raster_values, no_data):\n",
        "      \"\"\"\n",
        "      Convert a raster to x, y, z numpy array.\n",
        "      \"\"\"\n",
        "\n",
        "      try:\n",
        "        y, x = np.where(raster_values != no_data)\n",
        "        z = np.extract(raster_values != no_data, raster_values)\n",
        "\n",
        "        return pd.DataFrame({\n",
        "            \"x\": x,\n",
        "            \"y\": y,\n",
        "            \"z\": z\n",
        "        })\n",
        "\n",
        "      except Exception as err:\n",
        "        print(\"Error getting XYZ data: {0}\".format(err))\n",
        "\n",
        "    def get_xyz_from_raster(self, crop_result, no_data=-9999):\n",
        "\n",
        "      # Separate the received data\n",
        "      raster, meta = crop_result\n",
        "\n",
        "      # Transform to x, y, z\n",
        "      dataframe = self.__getXyzData(raster, no_data)\n",
        "\n",
        "      # Return the dataframe and an tuple with the offsets\n",
        "      return dataframe, (meta['transform'][2], meta['transform'][5])\n",
        "\n",
        "\n",
        "raster2xyz = Raster2xyz()"
      ],
      "execution_count": 51,
      "outputs": []
    },
    {
      "cell_type": "code",
      "metadata": {
        "id": "umdH0U-f1v9x"
      },
      "source": [
        "def crop_raster(raster, shape):\n",
        "  \"\"\"Crop the raster with a given shape (Polygon)\"\"\"\n",
        "\n",
        "  # Crop the raster\n",
        "  out_image, out_transform = rasterio.mask.mask(raster, shapes=shape, all_touched=True, crop=True)\n",
        "  out_meta = raster.meta\n",
        "\n",
        "  # Remove the third axis\n",
        "  out_image = np.moveaxis(out_image.squeeze(), -1, 0)\n",
        "\n",
        "  # Update the new tiff file metadata\n",
        "  out_meta.update({\"driver\": \"GTiff\",\n",
        "                 \"height\": out_image.shape[0],\n",
        "                 \"width\": out_image.shape[1],\n",
        "                 \"transform\": out_transform })\n",
        "\n",
        "  return out_image, out_meta\n",
        "\n",
        "  # More info: https://gis.stackexchange.com/questions/337677/rasterio-write-masked-array-to-tiff-shape-write-and-read-indices-are-wrong"
      ],
      "execution_count": 52,
      "outputs": []
    },
    {
      "cell_type": "code",
      "metadata": {
        "id": "x7RN5MJgHtX4"
      },
      "source": [
        "def save_lzma(name, data):\n",
        "\n",
        "  with lzma.open(f\"{name}.xz\", \"wb\") as f:\n",
        "    cPickle.dump(data, f)"
      ],
      "execution_count": 53,
      "outputs": []
    },
    {
      "cell_type": "code",
      "metadata": {
        "id": "j0fFoEno094a"
      },
      "source": [
        "def get_axis_aligned_bounding_box(iterable):\n",
        "  \"\"\"\n",
        "  Return the 2D boundig box of a given shape.\n",
        "  \"\"\"\n",
        "\n",
        "  # Math the bounding box.\n",
        "  min_x, min_y = np.min(iterable[0], axis=0)\n",
        "  max_x, max_y = np.max(iterable[0], axis=0)\n",
        "\n",
        "  # Extend the bounds by 8 in every direction.\n",
        "  extension = 8\n",
        "  min_x -= extension\n",
        "  min_y -= extension\n",
        "\n",
        "  max_x += extension\n",
        "  max_y += extension\n",
        "\n",
        "  # Return a list of tuples with 4 vertex.\n",
        "  return [(min_x, min_y), (max_x, min_y), (max_x, max_y), (min_x, max_y)]"
      ],
      "execution_count": 54,
      "outputs": []
    },
    {
      "cell_type": "code",
      "metadata": {
        "id": "jabbaZhF4mc2"
      },
      "source": [
        "def sanitize_shape(shape, bounding=True, last_is_first=False):\n",
        "\n",
        "  if bounding:\n",
        "    shape = get_axis_aligned_bounding_box([shape])\n",
        "  \n",
        "  if last_is_first:\n",
        "    shape.append(shape[0])\n",
        "\n",
        "  return [{'type': 'Polygon', 'coordinates': [shape]}]"
      ],
      "execution_count": 55,
      "outputs": []
    },
    {
      "cell_type": "code",
      "metadata": {
        "id": "WKNdFyQhH3D6"
      },
      "source": [
        "def get_bbox_oriented(np_array, bound=0):\n",
        "\n",
        "  x_y = pd.DataFrame({'x': np_array[:, 0], 'y': np_array[:, 1]}).to_numpy()\n",
        "  \n",
        "  # x_y = df[['x', 'y']].to_numpy()\n",
        "  corners, _ = np_obb.get_obb_from_points(x_y, calcconvexhull=False)\n",
        "\n",
        "  return corners"
      ],
      "execution_count": 56,
      "outputs": []
    },
    {
      "cell_type": "code",
      "metadata": {
        "id": "kWrASORKmZEE"
      },
      "source": [
        "def get_3d_bbox_oriented(np_array, bound=0):\n",
        "\n",
        "  corners = get_bbox_oriented(np_array)\n",
        "\n",
        "  # Get back to dataframe\n",
        "  df = pd.DataFrame({'x': corners[:, 0], 'y': corners[:, 1]})\n",
        "  df2 = df.copy()\n",
        "\n",
        "  # Add z\n",
        "  df['z'] = -9999\n",
        "  df2['z'] = 300\n",
        "\n",
        "  # Merge and return\n",
        "  return pd.concat([df, df2]).to_numpy()"
      ],
      "execution_count": 57,
      "outputs": []
    },
    {
      "cell_type": "code",
      "metadata": {
        "id": "7w24x-gVKuVI"
      },
      "source": [
        "def math_land_center_offset(df_land):\n",
        "  \"\"\"\n",
        "  df: pointcloud of the land.\n",
        "  \"\"\"\n",
        "\n",
        "  x_offset = (df_land['x'].min() + df_land['x'].max()) / 2\n",
        "  y_offset = (df_land['y'].min() + df_land['y'].max()) / 2\n",
        "  z_offset = (df_land['z'].min() + df_land['z'].max()) / 2\n",
        "\n",
        "  return (x_offset, y_offset, z_offset)"
      ],
      "execution_count": 58,
      "outputs": []
    },
    {
      "cell_type": "code",
      "metadata": {
        "id": "REajczXn-qgZ"
      },
      "source": [
        "def math_house_offset(offset_land, offset_house, offset_relative, dtm_house, dtm_land):\n",
        "  \"\"\"\n",
        "  offset_relative: offset math with \"math_land_center_offset\".\n",
        "  \"\"\"\n",
        "\n",
        "  # Math the offset of the house relative to the land.\n",
        "  x_offset_relative = (- (offset_house[1] - offset_land[1])) - offset_relative[0]\n",
        "  y_offset_relative = (offset_house[0] - offset_land[0]) - offset_relative[1]\n",
        "  z_offset_relative = (dtm_house['y'].min() - dtm_land['y'].min()) + offset_relative[2]\n",
        "\n",
        "  return (x_offset_relative, y_offset_relative, z_offset_relative)"
      ],
      "execution_count": 59,
      "outputs": []
    },
    {
      "cell_type": "code",
      "metadata": {
        "id": "8BL6Qk39Hc3b"
      },
      "source": [
        "from scipy.spatial import Delaunay\n",
        "\n",
        "def get_shape_triangulated(shape):\n",
        "  verts = np.array(shape).reshape(-1, 2)\n",
        "  result = Delaunay(shape).simplices\n",
        "  \n",
        "  return verts[result]"
      ],
      "execution_count": 60,
      "outputs": []
    },
    {
      "cell_type": "code",
      "metadata": {
        "id": "cfkfceE-VZ3V"
      },
      "source": [
        "def math_xy_point(point, offset):\n",
        "  return (point[0] + offset[0], point[1] + offset[1])"
      ],
      "execution_count": 61,
      "outputs": []
    },
    {
      "cell_type": "markdown",
      "metadata": {
        "id": "3BKr5RnW14vs"
      },
      "source": [
        "Function: Convert a string list to a Python Object-list"
      ]
    },
    {
      "cell_type": "code",
      "metadata": {
        "id": "-OSYfMCP_r1d"
      },
      "source": [
        "def string_to_shape(string):\n",
        "  return list(ast.literal_eval(string))"
      ],
      "execution_count": 62,
      "outputs": []
    },
    {
      "cell_type": "code",
      "metadata": {
        "id": "JzlZwQwK4Xcs"
      },
      "source": [
        "def create_files(id, shapes, metadata, details):\n",
        "  \n",
        "  # Transform shape into usable data for the following code\n",
        "  shp_land_bounded = sanitize_shape(shapes[0], True)\n",
        "  shp_land = sanitize_shape(shapes[0], False)\n",
        "\n",
        "  shp_house = sanitize_shape(shapes[1], False)\n",
        "  shp_house_triangulated = get_shape_triangulated(shapes[1])\n",
        "\n",
        "  shp_vegetation = shp_land.copy()\n",
        "  shp_vegetation[0]['coordinates'].append(shp_house[0]['coordinates'][0])\n",
        "  \n",
        "  data = {}\n",
        "\n",
        "\n",
        "  # ---- Create Land -----\n",
        "\n",
        "  # create DTM property bounded\n",
        "  data['dtm_land_bounded'] = raster2xyz.get_xyz_from_raster(crop_raster(dtm, shp_land_bounded))[0].to_numpy()\n",
        "  dtm_land, offset_land = raster2xyz.get_xyz_from_raster(crop_raster(dtm, shp_land))\n",
        "\n",
        "  data['translation_land'] = math_land_center_offset(dtm_land)\n",
        "  data['dtm_land'] = dtm_land.to_numpy()\n",
        "\n",
        "  # Create DTM property oriented bbox\n",
        "  data['dtm_land_bbox'] = get_3d_bbox_oriented(data['dtm_land']) # From dtm_land\n",
        "\n",
        "\n",
        "  # ---- Create Vegetation -----\n",
        "\n",
        "  # Create DSM property not bounded\n",
        "  data['dsm_vegetation'] = raster2xyz.get_xyz_from_raster(crop_raster(dsm, shp_vegetation))[0].to_numpy()\n",
        "\n",
        "\n",
        "  # ----- House Trianglulated ----- \n",
        "  houses_data = None\n",
        "\n",
        "  try:\n",
        "    # Try to create a triangulated house\n",
        "    houses_data = []\n",
        "\n",
        "    for entry in shp_house_triangulated:\n",
        "\n",
        "      shape = sanitize_shape(entry.tolist(), False, True)\n",
        "      dtm_house, offset_house = raster2xyz.get_xyz_from_raster(crop_raster(dtm, shape))\n",
        "\n",
        "      houses_data.append({\n",
        "          'dtm': dtm_house.to_numpy(),\n",
        "          'dsm': raster2xyz.get_xyz_from_raster(crop_raster(dsm, shape))[0].to_numpy(),\n",
        "          'translation': math_house_offset(offset_land, offset_house, data['translation_land'], dtm_house, dtm_land)\n",
        "      })\n",
        "\n",
        "  except:\n",
        "      # If it fail, create a normal house\n",
        "\n",
        "      dtm_house, offset_house = raster2xyz.get_xyz_from_raster(crop_raster(dtm, shp_house))\n",
        "\n",
        "      houses_data = [{\n",
        "          'dtm': dtm_house.to_numpy(),\n",
        "          'dsm': raster2xyz.get_xyz_from_raster(crop_raster(dsm, shp_house))[0].to_numpy(),\n",
        "          'translation': math_house_offset(offset_land, offset_house, data['translation_land'], dtm_house, dtm_land)\n",
        "      }]\n",
        "\n",
        "  data['houses'] = houses_data\n",
        "\n",
        "  # ---- Add metadata ----\n",
        "\n",
        "  data['meta'] = metadata\n",
        "  data['details'] = details\n",
        "\n",
        "  # ---- Save the file ----\n",
        "\n",
        "  save_lzma(f\"./house/house_{id}\", data)"
      ],
      "execution_count": 63,
      "outputs": []
    },
    {
      "cell_type": "markdown",
      "metadata": {
        "id": "E7qzkd7y2qaD"
      },
      "source": [
        "# Process"
      ]
    },
    {
      "cell_type": "markdown",
      "metadata": {
        "id": "Tylkj2aB3XPX"
      },
      "source": [
        "## City dataset import"
      ]
    },
    {
      "cell_type": "code",
      "metadata": {
        "id": "4Tr_zAcF3Y-d"
      },
      "source": [
        "postal_code = 1435"
      ],
      "execution_count": 64,
      "outputs": []
    },
    {
      "cell_type": "code",
      "metadata": {
        "id": "Yovs8hwt2--K"
      },
      "source": [
        "address = pd.read_csv(f\"/content/drive/My Drive/datas/3d_house/cities/city_{postal_code}.csv\", sep=\";\")"
      ],
      "execution_count": 65,
      "outputs": []
    },
    {
      "cell_type": "code",
      "metadata": {
        "id": "2jEB4f703LPX",
        "outputId": "956fbece-68c9-4533-f3de-dc093ac5dd86",
        "colab": {
          "base_uri": "https://localhost:8080/",
          "height": 289
        }
      },
      "source": [
        "address.head()"
      ],
      "execution_count": 66,
      "outputs": [
        {
          "output_type": "execute_result",
          "data": {
            "text/html": [
              "<div>\n",
              "<style scoped>\n",
              "    .dataframe tbody tr th:only-of-type {\n",
              "        vertical-align: middle;\n",
              "    }\n",
              "\n",
              "    .dataframe tbody tr th {\n",
              "        vertical-align: top;\n",
              "    }\n",
              "\n",
              "    .dataframe thead th {\n",
              "        text-align: right;\n",
              "    }\n",
              "</style>\n",
              "<table border=\"1\" class=\"dataframe\">\n",
              "  <thead>\n",
              "    <tr style=\"text-align: right;\">\n",
              "      <th></th>\n",
              "      <th>ADR_NUMERO</th>\n",
              "      <th>RUE_ID</th>\n",
              "      <th>RUE_NM</th>\n",
              "      <th>CODE_POSTAL</th>\n",
              "      <th>COM_NM</th>\n",
              "      <th>X</th>\n",
              "      <th>Y</th>\n",
              "      <th>shape_property</th>\n",
              "      <th>area_property</th>\n",
              "      <th>shape_building</th>\n",
              "      <th>area_building</th>\n",
              "    </tr>\n",
              "  </thead>\n",
              "  <tbody>\n",
              "    <tr>\n",
              "      <th>0</th>\n",
              "      <td>6</td>\n",
              "      <td>7702672</td>\n",
              "      <td>Clos Emile Fabry</td>\n",
              "      <td>1435</td>\n",
              "      <td>Mont-Saint-Guibert</td>\n",
              "      <td>4.659528</td>\n",
              "      <td>50.648423</td>\n",
              "      <td>[(170581.2706426699, 148677.21507971175), (170...</td>\n",
              "      <td>1011.5873</td>\n",
              "      <td>[(170573.85471454787, 148685.59207473416), (17...</td>\n",
              "      <td>169.9814</td>\n",
              "    </tr>\n",
              "    <tr>\n",
              "      <th>1</th>\n",
              "      <td>2</td>\n",
              "      <td>7702697</td>\n",
              "      <td>Rue de Corbais</td>\n",
              "      <td>1435</td>\n",
              "      <td>Mont-Saint-Guibert</td>\n",
              "      <td>4.614342</td>\n",
              "      <td>50.637944</td>\n",
              "      <td>[(167385.81868781263, 147509.9480282804), (167...</td>\n",
              "      <td>475.2238</td>\n",
              "      <td>[(167366.28966235323, 147492.62907465268), (16...</td>\n",
              "      <td>447.1111</td>\n",
              "    </tr>\n",
              "    <tr>\n",
              "      <th>2</th>\n",
              "      <td>22</td>\n",
              "      <td>7702675</td>\n",
              "      <td>Grand'Place</td>\n",
              "      <td>1435</td>\n",
              "      <td>Mont-Saint-Guibert</td>\n",
              "      <td>4.611022</td>\n",
              "      <td>50.634580</td>\n",
              "      <td>[(167146.26764982328, 147129.5701059159), (167...</td>\n",
              "      <td>118.0624</td>\n",
              "      <td>[(167146.26764982328, 147129.5701059159), (167...</td>\n",
              "      <td>118.0624</td>\n",
              "    </tr>\n",
              "    <tr>\n",
              "      <th>3</th>\n",
              "      <td>6</td>\n",
              "      <td>7702675</td>\n",
              "      <td>Grand'Place</td>\n",
              "      <td>1435</td>\n",
              "      <td>Mont-Saint-Guibert</td>\n",
              "      <td>4.610455</td>\n",
              "      <td>50.634310</td>\n",
              "      <td>[(167105.14670673432, 147110.53204503562), (16...</td>\n",
              "      <td>273.1282</td>\n",
              "      <td>[(167105.14670673432, 147110.53204503562), (16...</td>\n",
              "      <td>209.3004</td>\n",
              "    </tr>\n",
              "    <tr>\n",
              "      <th>4</th>\n",
              "      <td>19</td>\n",
              "      <td>7702680</td>\n",
              "      <td>Place de la Dodaine</td>\n",
              "      <td>1435</td>\n",
              "      <td>Mont-Saint-Guibert</td>\n",
              "      <td>4.610321</td>\n",
              "      <td>50.640581</td>\n",
              "      <td>[(167090.49379701656, 147799.4672572501), (167...</td>\n",
              "      <td>27.4649</td>\n",
              "      <td>[(167090.49379701656, 147799.4672572501), (167...</td>\n",
              "      <td>27.4649</td>\n",
              "    </tr>\n",
              "  </tbody>\n",
              "</table>\n",
              "</div>"
            ],
            "text/plain": [
              "  ADR_NUMERO  ...  area_building\n",
              "0          6  ...       169.9814\n",
              "1          2  ...       447.1111\n",
              "2         22  ...       118.0624\n",
              "3          6  ...       209.3004\n",
              "4         19  ...        27.4649\n",
              "\n",
              "[5 rows x 11 columns]"
            ]
          },
          "metadata": {
            "tags": []
          },
          "execution_count": 66
        }
      ]
    },
    {
      "cell_type": "markdown",
      "metadata": {
        "id": "cis6XXjG2uHA"
      },
      "source": [
        "## Create the dataset of each house"
      ]
    },
    {
      "cell_type": "code",
      "metadata": {
        "id": "9Gvl_IvHaZmf"
      },
      "source": [
        "def add_property_shape(input):\n",
        "  index = input[0]\n",
        "  shapes = (string_to_shape(input[1]), string_to_shape(input[2]))\n",
        "\n",
        "  meta = {\n",
        "      'street_name': input[5],\n",
        "      'house_number': input[6],\n",
        "      'postal_code': input[4],\n",
        "      'city_name': input[3],\n",
        "      'x': input[7],\n",
        "      'y': input[8],\n",
        "  }\n",
        "\n",
        "  details = {\n",
        "      'area_property': input[9],\n",
        "      'area_building': input[10]\n",
        "  }\n",
        "\n",
        "  create_files(index, shapes, meta, details)\n",
        "\n",
        "  return index"
      ],
      "execution_count": 67,
      "outputs": []
    },
    {
      "cell_type": "code",
      "metadata": {
        "id": "mAXYvjDS2r44"
      },
      "source": [
        "start = 0\n",
        "stop = address.shape[0]\n",
        "counter = pd.Series([i for i in range(start + 1, start + stop + 1)])\n",
        "\n",
        "address['counter'] = counter"
      ],
      "execution_count": 68,
      "outputs": []
    },
    {
      "cell_type": "code",
      "metadata": {
        "id": "rCDwhz_zv67E",
        "outputId": "4683f5c9-792a-4f7f-fc21-49c199892aec",
        "colab": {
          "base_uri": "https://localhost:8080/"
        }
      },
      "source": [
        "address['id'] = address[['counter', 'shape_property', 'shape_building', 'COM_NM', 'CODE_POSTAL', 'RUE_NM', 'ADR_NUMERO', 'X', 'Y', 'area_property', 'area_building']].progress_apply(add_property_shape, axis=1)"
      ],
      "execution_count": 69,
      "outputs": [
        {
          "output_type": "stream",
          "text": [
            "100%|██████████| 2288/2288 [07:10<00:00,  5.31it/s]\n"
          ],
          "name": "stderr"
        }
      ]
    },
    {
      "cell_type": "code",
      "metadata": {
        "id": "36KFS713yH0W",
        "outputId": "3e423ddd-9776-46f4-b655-e1429a8f25df",
        "colab": {
          "base_uri": "https://localhost:8080/"
        }
      },
      "source": [
        "print(address['counter'])"
      ],
      "execution_count": 70,
      "outputs": [
        {
          "output_type": "stream",
          "text": [
            "0          1\n",
            "1          2\n",
            "2          3\n",
            "3          4\n",
            "4          5\n",
            "        ... \n",
            "2283    2284\n",
            "2284    2285\n",
            "2285    2286\n",
            "2286    2287\n",
            "2287    2288\n",
            "Name: counter, Length: 2288, dtype: int64\n"
          ],
          "name": "stdout"
        }
      ]
    },
    {
      "cell_type": "markdown",
      "metadata": {
        "id": "zPutOlU5Bf49"
      },
      "source": [
        "## Upload houses to backblaze"
      ]
    },
    {
      "cell_type": "code",
      "metadata": {
        "id": "mw58bn_gBhxk",
        "outputId": "5454afa1-7ecb-4fcb-8c69-9e618bc26e07",
        "colab": {
          "base_uri": "https://localhost:8080/"
        }
      },
      "source": [
        "from b2sdk.v1 import InMemoryAccountInfo, B2Api\n",
        "\n",
        "# Init B2 API\n",
        "info = InMemoryAccountInfo()\n",
        "api = b2sdk.v1.B2Api(info)\n",
        "\n",
        "# Authorize account\n",
        "application_key_id = 'bcb83f531e5f'\n",
        "application_key = '003e1df59dc47b642cbbf4980c5fea980121d99299'\n",
        "\n",
        "api.authorize_account(\"production\", application_key_id, application_key)\n",
        "bucket = api.get_bucket_by_name('wallonia-lidar')\n",
        "print('Account authorized - Bucket connected')\n",
        "\n",
        "def upload_file(local_name, remote_name):\n",
        "  bucket.upload_local_file(local_file=local_name, file_name=remote_name)"
      ],
      "execution_count": 71,
      "outputs": [
        {
          "output_type": "stream",
          "text": [
            "Account authorized - Bucket connected\n"
          ],
          "name": "stdout"
        }
      ]
    },
    {
      "cell_type": "code",
      "metadata": {
        "id": "V_Apq6TQEX2H"
      },
      "source": [
        "for root, dirs, files in os.walk('house'):\n",
        "  for file in files:\n",
        "    upload_file(os.path.join(root, file), f'houses/{file}')"
      ],
      "execution_count": 72,
      "outputs": []
    },
    {
      "cell_type": "markdown",
      "metadata": {
        "id": "z-kZOtz8l89q"
      },
      "source": [
        "# Create the street and number JSON"
      ]
    },
    {
      "cell_type": "code",
      "metadata": {
        "id": "agqvmdP3moS8"
      },
      "source": [
        "def create_json(df, file_name, json_name):\n",
        "\n",
        "  # Setup the dictionnary\n",
        "  dictionnary = {}\n",
        "\n",
        "  for entry in df.values.tolist():\n",
        "    dictionnary[entry[1]] = entry[0]\n",
        "\n",
        "  with open(f'./web/{file_name}.json', 'w') as fp:\n",
        "      json.dump(dictionnary, fp)"
      ],
      "execution_count": 73,
      "outputs": []
    },
    {
      "cell_type": "markdown",
      "metadata": {
        "id": "PcPr8F7oGC1T"
      },
      "source": [
        "Streets JSON"
      ]
    },
    {
      "cell_type": "code",
      "metadata": {
        "id": "g5kq5fMXd1bj"
      },
      "source": [
        "streets = address[['RUE_ID', 'RUE_NM', 'CODE_POSTAL']].copy()"
      ],
      "execution_count": 74,
      "outputs": []
    },
    {
      "cell_type": "code",
      "metadata": {
        "id": "OEkAnyZfmYrp"
      },
      "source": [
        "streets.drop_duplicates(inplace=True)\n",
        "postal_codes = streets['CODE_POSTAL'].unique().tolist()\n",
        "\n",
        "\n",
        "for code in postal_codes:\n",
        "\n",
        "  current_streets = streets.loc[streets['CODE_POSTAL'] == code][['RUE_ID', 'RUE_NM']]\n",
        "  create_json(current_streets, code, 'streets')\n"
      ],
      "execution_count": 75,
      "outputs": []
    },
    {
      "cell_type": "markdown",
      "metadata": {
        "id": "fgYoW96CGEbI"
      },
      "source": [
        "House numbers JSON"
      ]
    },
    {
      "cell_type": "code",
      "metadata": {
        "id": "0UfNoXfjGLwK"
      },
      "source": [
        "numbers = address[['ADR_NUMERO', 'RUE_ID', 'id', 'CODE_POSTAL']].copy()\n",
        "postal_codes = streets['CODE_POSTAL'].unique().tolist()\n",
        "\n",
        "for code in postal_codes:\n",
        "\n",
        "  streets_id = numbers[['RUE_ID', 'CODE_POSTAL']].copy()\n",
        "  streets_id = streets_id.drop_duplicates()\n",
        "  streets_id = streets_id.loc[streets_id['CODE_POSTAL'] == code][['RUE_ID']].values.tolist()\n",
        "\n",
        "  create_folder(f'./web/{code}')\n",
        "\n",
        "  for street in streets_id:\n",
        "    df = numbers.loc[numbers['RUE_ID'] == street[0]]\n",
        "    df = df[['id', 'ADR_NUMERO']]\n",
        "  \n",
        "    create_json(df, f'{postal_code}/{street[0]}', 'numbers')\n",
        "\n",
        "#create_zip('web', 'web')"
      ],
      "execution_count": 76,
      "outputs": []
    },
    {
      "cell_type": "markdown",
      "metadata": {
        "id": "VI3KupTKHdBJ"
      },
      "source": [
        "Postal Codes JSON"
      ]
    },
    {
      "cell_type": "code",
      "metadata": {
        "id": "LpZzpPE8HyHh",
        "outputId": "d40d4a7e-c99f-419b-b998-59b06240cd06",
        "colab": {
          "base_uri": "https://localhost:8080/"
        }
      },
      "source": [
        "response = requests.get(url='https://static.wallonia.ml/file/wallonia-lidar/web/postal_codes.json')\n",
        "\n",
        "postal_codes_file = None\n",
        "\n",
        "if response.status_code == 200:\n",
        "  postal_codes_file = response.json()\n",
        "\n",
        "else:\n",
        "  postal_codes_file = {}\n",
        "\n",
        "for code in postal_codes:\n",
        "  postal_codes_file[str(code)] = code\n",
        "\n",
        "with open('web/postal_codes.json', 'w') as json_file:\n",
        "  json.dump(postal_codes_file, json_file)"
      ],
      "execution_count": 92,
      "outputs": [
        {
          "output_type": "stream",
          "text": [
            "{'1435': 1435}\n"
          ],
          "name": "stdout"
        }
      ]
    },
    {
      "cell_type": "code",
      "metadata": {
        "id": "mAzQUYSuHBwV"
      },
      "source": [
        "for root, dirs, files in os.walk('web'):\n",
        "  for file in files:\n",
        "    upload_file(os.path.join(root, file), os.path.join(root, file))"
      ],
      "execution_count": 85,
      "outputs": []
    },
    {
      "cell_type": "markdown",
      "metadata": {
        "id": "zl4aihw5NgCg"
      },
      "source": [
        "# Debug code"
      ]
    },
    {
      "cell_type": "code",
      "metadata": {
        "id": "h1doJNBD8D0W"
      },
      "source": [
        "\n",
        "\n",
        "\"\"\"shapes = (string_to_shape(address.loc[0]['shape_property']),\n",
        "          string_to_shape(address.loc[0]['shape_building']))\n",
        "\n",
        "points = create_files(0, shapes, 0, 0).to_numpy()\n"
      ],
      "execution_count": null,
      "outputs": []
    }
  ]
}